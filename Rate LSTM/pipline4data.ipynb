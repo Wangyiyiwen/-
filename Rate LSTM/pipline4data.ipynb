{
 "cells": [
  {
   "cell_type": "code",
   "execution_count": 6,
   "id": "fa76eb3c",
   "metadata": {},
   "outputs": [],
   "source": [
    "name = \"HKD\"\n",
    "# CNY_HKD_to_exchange_rate.csv\n",
    "txtname = f\"{name}_to_exchange_rate.txt\"\n",
    "# CNY_HKD_to_exchange_rate.csv\n",
    "csvname = f\"{name}_to_exchange_rate.csv\"\n",
    "\n",
    "csvname_no_rev = csvname + \"_no_rev\"\n"
   ]
  },
  {
   "cell_type": "code",
   "execution_count": 7,
   "id": "a8f96824",
   "metadata": {},
   "outputs": [
    {
     "name": "stdout",
     "output_type": "stream",
     "text": [
      "转换过程中出现错误: [Errno 2] No such file or directory: 'HKD_to_exchange_rate.txt'\n"
     ]
    }
   ],
   "source": [
    "import pandas as pd\n",
    "\n",
    "def convert_myr_to_csv():\n",
    "    \"\"\"\n",
    "    将myr.txt文件转换为CSV格式，只保留日期和现汇卖出价两列\n",
    "    \"\"\"\n",
    "    # 读取原始文件\n",
    "    input_file = txtname\n",
    "    output_file = csvname_no_rev\n",
    "    \n",
    "    try:\n",
    "        # 读取制表符分隔的文件\n",
    "        df = pd.read_csv(input_file, sep='\\t', encoding='utf-8')\n",
    "        \n",
    "        # 只保留日期和现汇卖出价两列\n",
    "        df_filtered = df[['日期', '现钞卖出价']].copy()\n",
    "        \n",
    "        # 重命名列名为英文（可选）\n",
    "        df_filtered.columns = ['Date', 'Exchange_Rate']\n",
    "        \n",
    "        # 保存为CSV文件\n",
    "        df_filtered.to_csv(output_file, index=False, encoding='utf-8')\n",
    "        \n",
    "        print(f\"转换完成！\")\n",
    "        print(f\"输入文件: {input_file}\")\n",
    "        print(f\"输出文件: {output_file}\")\n",
    "        print(f\"总共处理了 {len(df_filtered)} 条记录\")\n",
    "        print(f\"\\n前5行数据预览:\")\n",
    "        print(df_filtered.head())\n",
    "        \n",
    "    except Exception as e:\n",
    "        print(f\"转换过程中出现错误: {e}\")\n",
    "\n",
    "if __name__ == \"__main__\":\n",
    "    convert_myr_to_csv()\n"
   ]
  },
  {
   "cell_type": "code",
   "execution_count": 8,
   "id": "7a616d9b",
   "metadata": {},
   "outputs": [
    {
     "name": "stdout",
     "output_type": "stream",
     "text": [
      "处理文件时出错: [Errno 2] No such file or directory: 'HKD_to_exchange_rate.csv_no_rev'\n"
     ]
    }
   ],
   "source": [
    "import pandas as pd\n",
    "\n",
    "def reverse_csv_file(input_file, output_file):\n",
    "    \"\"\"\n",
    "    反转CSV文件的行顺序\n",
    "    \n",
    "    参数:\n",
    "    input_file: 输入CSV文件的路径\n",
    "    output_file: 输出CSV文件的路径\n",
    "    \"\"\"\n",
    "    try:\n",
    "        # 读取CSV文件\n",
    "        df = pd.read_csv(input_file)\n",
    "        \n",
    "        # 反转行顺序\n",
    "        df_reversed = df.iloc[::-1]\n",
    "        \n",
    "        # 重置索引\n",
    "        df_reversed = df_reversed.reset_index(drop=True)\n",
    "        \n",
    "        # 保存到新文件\n",
    "        df_reversed.to_csv(output_file, index=False)\n",
    "        \n",
    "        print(f\"成功将 {input_file} 反转并保存为 {output_file}\")\n",
    "        print(f\"原始文件行数: {len(df)}\")\n",
    "        print(f\"反转后文件行数: {len(df_reversed)}\")\n",
    "        \n",
    "    except Exception as e:\n",
    "        print(f\"处理文件时出错: {e}\")\n",
    "\n",
    "# 使用示例\n",
    "if __name__ == \"__main__\":\n",
    "    input_file = csvname_no_rev\n",
    "    output_file = csvname\n",
    "    \n",
    "    reverse_csv_file(input_file, output_file)"
   ]
  }
 ],
 "metadata": {
  "kernelspec": {
   "display_name": "Python 3",
   "language": "python",
   "name": "python3"
  },
  "language_info": {
   "codemirror_mode": {
    "name": "ipython",
    "version": 3
   },
   "file_extension": ".py",
   "mimetype": "text/x-python",
   "name": "python",
   "nbconvert_exporter": "python",
   "pygments_lexer": "ipython3",
   "version": "3.10.12"
  }
 },
 "nbformat": 4,
 "nbformat_minor": 5
}
