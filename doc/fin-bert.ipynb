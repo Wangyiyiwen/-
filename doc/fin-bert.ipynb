{
 "cells": [
  {
   "cell_type": "code",
   "execution_count": 2,
   "id": "1c243f87",
   "metadata": {},
   "outputs": [
    {
     "name": "stderr",
     "output_type": "stream",
     "text": [
      "Device set to use cpu\n"
     ]
    },
    {
     "name": "stdout",
     "output_type": "stream",
     "text": [
      "[{'label': 'neutral', 'score': 0.8847787976264954}]\n"
     ]
    }
   ],
   "source": [
    "import os\n",
    "os.environ[\"TRANSFORMERS_NO_TF\"] = \"1\"  # 保证不用 TensorFlow\n",
    "from transformers import pipeline\n",
    "\n",
    "pipe = pipeline(\"text-classification\", model=\"ProsusAI/finbert\")\n",
    "print(pipe(\"fail\"))\n"
   ]
  },
  {
   "cell_type": "code",
   "execution_count": 4,
   "id": "c6f6371d",
   "metadata": {},
   "outputs": [
    {
     "name": "stdout",
     "output_type": "stream",
     "text": [
      "[{'label': 'negative', 'score': 0.8912527561187744}]\n"
     ]
    }
   ],
   "source": [
    "print(pipe(\"The stock market crashed today.\"))"
   ]
  },
  {
   "cell_type": "code",
   "execution_count": 7,
   "id": "377fe01a",
   "metadata": {},
   "outputs": [
    {
     "name": "stdout",
     "output_type": "stream",
     "text": [
      "[{'label': 'neutral', 'score': 0.6695465445518494}]\n"
     ]
    }
   ],
   "source": [
    "print(pipe(\"Stocks soared today.Stocks soared today.Stocks soared today.Stocks soared today.Stocks soared today.Stocks soared today.Stocks soared today.Stocks soared today.Stocks soared today.Stocks soared today.Stocks soared today.Stocks soared today.Stocks soared today.\"))"
   ]
  },
  {
   "cell_type": "code",
   "execution_count": 12,
   "id": "601dd32b",
   "metadata": {},
   "outputs": [
    {
     "name": "stdout",
     "output_type": "stream",
     "text": [
      "[{'label': 'neutral', 'score': 0.8017162680625916}]\n"
     ]
    }
   ],
   "source": [
    "print(pipe(\"Stocks went crazy and soared today.\" * 50))  # 测试长文本"
   ]
  },
  {
   "cell_type": "code",
   "execution_count": 13,
   "id": "11309528",
   "metadata": {},
   "outputs": [
    {
     "name": "stderr",
     "output_type": "stream",
     "text": [
      "Device set to use cpu\n"
     ]
    },
    {
     "name": "stdout",
     "output_type": "stream",
     "text": [
      "The S&P 500 closed at a new record high. The Federal Reserve signaled that interest rates would remain steady for the rest of the year.\n"
     ]
    }
   ],
   "source": [
    "from transformers import pipeline\n",
    "\n",
    "# 建议用 bart-large-cnn，支持较长文章摘要\n",
    "summarizer = pipeline(\"summarization\", model=\"facebook/bart-large-cnn\")\n",
    "\n",
    "article = \"\"\"\n",
    "Stocks rallied today as the Federal Reserve signaled that interest rates would remain steady for the rest of the year.\n",
    "The S&P 500 closed at a new record high, driven by gains in technology and consumer discretionary shares.\n",
    "Investors responded positively to economic data showing steady job growth and easing inflation pressures.\n",
    "\"\"\"\n",
    "\n",
    "summary = summarizer(article, max_length=60, min_length=10, do_sample=False)\n",
    "print(summary[0]['summary_text'])\n"
   ]
  },
  {
   "cell_type": "code",
   "execution_count": 15,
   "id": "55968fdc",
   "metadata": {},
   "outputs": [
    {
     "name": "stderr",
     "output_type": "stream",
     "text": [
      "Device set to use cpu\n",
      "Device set to use cpu\n"
     ]
    }
   ],
   "source": [
    "import os\n",
    "os.environ[\"TRANSFORMERS_NO_TF\"] = \"1\"  # 保证不用 TensorFlow\n",
    "from transformers import pipeline\n",
    "\n",
    "Scorer = pipeline(\"text-classification\", model=\"ProsusAI/finbert\")\n",
    "Summarizer = pipeline(\"summarization\", model=\"facebook/bart-large-cnn\")"
   ]
  },
  {
   "cell_type": "code",
   "execution_count": 17,
   "id": "69cf7415",
   "metadata": {},
   "outputs": [
    {
     "name": "stdout",
     "output_type": "stream",
     "text": [
      "[{'label': 'positive', 'score': 0.36445072293281555}]\n"
     ]
    }
   ],
   "source": [
    "def score(text):\n",
    "    \"\"\"\n",
    "    使用 FinBERT 评分文本情感\n",
    "    \"\"\"\n",
    "    summary = Summarizer(text, max_length=60, min_length=10, do_sample=False)\n",
    "    ret = Scorer(summary[0]['summary_text'])\n",
    "    return ret\n",
    "\n",
    "article = \"\"\"\n",
    "Stocks rallied today as the Federal Reserve signaled that interest rates would remain steady for the rest of the year.\n",
    "The S&P 500 closed at a new record high, driven by gains in technology and consumer discretionary shares.\n",
    "Investors responded positively to economic data showing steady job growth and easing inflation pressures.\n",
    "\"\"\"\n",
    "\n",
    "print (score(article))"
   ]
  }
 ],
 "metadata": {
  "kernelspec": {
   "display_name": "Python 3",
   "language": "python",
   "name": "python3"
  },
  "language_info": {
   "codemirror_mode": {
    "name": "ipython",
    "version": 3
   },
   "file_extension": ".py",
   "mimetype": "text/x-python",
   "name": "python",
   "nbconvert_exporter": "python",
   "pygments_lexer": "ipython3",
   "version": "3.10.12"
  }
 },
 "nbformat": 4,
 "nbformat_minor": 5
}
